{
  "nbformat": 4,
  "nbformat_minor": 0,
  "metadata": {
    "colab": {
      "provenance": [],
      "toc_visible": true
    },
    "kernelspec": {
      "name": "python3",
      "display_name": "Python 3"
    },
    "accelerator": "GPU"
  },
  "cells": [
    {
      "cell_type": "markdown",
      "metadata": {
        "id": "-Uz2XRsvzfwX"
      },
      "source": [
        "# 음성 인식(Speech Recognition)"
      ]
    },
    {
      "cell_type": "markdown",
      "metadata": {
        "id": "q-BlCMi30uxu"
      },
      "source": [
        "## Speech To Text(STT)"
      ]
    },
    {
      "cell_type": "markdown",
      "metadata": {
        "id": "M8kZOaM-vBib"
      },
      "source": [
        "* STT는 음성을 입력받아 그에 해당하는 구문(문자열)을 얻는 기술\n",
        "* 딥러닝을 이용한 STT 모델에는 WaveNet 등이 존재\n",
        "* SpeechRecognition을 이용하면 모델을 학습시키지 않고도 간편하게 구현 가능\n",
        "\n"
      ]
    },
    {
      "cell_type": "markdown",
      "metadata": {
        "id": "l52xOnmH0m6K"
      },
      "source": [
        "### 라이브러리 소개 및 설치"
      ]
    },
    {
      "cell_type": "markdown",
      "metadata": {
        "id": "BH-8ep46385C"
      },
      "source": [
        "\n",
        "\n",
        "*   음성 인식 기술은 음성 데이터가 대부분 크고, 관련 기술 코드도 상당히 길어 구현이 힘듬\n",
        "*   SpeechRecognition을 사용하면 이러한 과정 없이 음성 인식 기술을 이용할 수 있음\n",
        "\n"
      ]
    },
    {
      "cell_type": "code",
      "metadata": {
        "id": "-NAAB_WjzgzB"
      },
      "source": [],
      "execution_count": null,
      "outputs": []
    },
    {
      "cell_type": "markdown",
      "metadata": {
        "id": "uiRxY7uJ0puH"
      },
      "source": [
        "### Recognizer"
      ]
    },
    {
      "cell_type": "markdown",
      "metadata": {
        "id": "EmKd04ZL5Qs-"
      },
      "source": [
        "\n",
        "\n",
        "*   SpeechRecognition 라이브러리의 기능을 이용하기 위해선 Recognizer 객체를 생성\n",
        "\n"
      ]
    },
    {
      "cell_type": "code",
      "metadata": {
        "id": "YRnrdzTOzqhW"
      },
      "source": [],
      "execution_count": null,
      "outputs": []
    },
    {
      "cell_type": "markdown",
      "metadata": {
        "id": "8vqVGqm70FXA"
      },
      "source": [
        "* 여러 기업에서 제공하는 음성 인식 기술 사용 가능\n",
        "  + `recognize_google()` - Google Web Speech API\n",
        "  + `recognize_google_cloud()` - Google Cloud Speech\n",
        "  + `recognize_bing()` - Microsoft Bing Speech\n",
        "  + `recognize_houndify()` - SoundHound Houndify\n",
        "  + `recognize_ibm()` - IBM Speech to Text\n",
        "  + `recognize_wit()` - Wit.ai\n",
        "  + `recognize_sphinx()` - CMU Sphinx (Sphinx는 오프라인으로 동작하며, 나머지 모든 함수는 인터넷 연결이 되어야만 사용 가능)\n",
        "\n"
      ]
    },
    {
      "cell_type": "markdown",
      "metadata": {
        "id": "rMMQr8wJBEMk"
      },
      "source": [
        "## 음성 데이터"
      ]
    },
    {
      "cell_type": "markdown",
      "metadata": {
        "id": "X9FrbBdQ6xfu"
      },
      "source": [
        "* SpeechRecognition 지원 파일 형식\n",
        "  * WAV\n",
        "  * AIFF\n",
        "  * AIFF-C\n",
        "  * FLAC"
      ]
    },
    {
      "cell_type": "markdown",
      "metadata": {
        "id": "A78iB8J54JbE"
      },
      "source": [
        "* OpenSpeechRepository에서 제공하는 Harvard Sentence 데이터 사용\n",
        "  + http://www.voiptroubleshooter.com/open_speech/\n",
        "* SpeechRecognition을 사용하기 위해 데이터를 AudioFile 객체로 변환\n",
        "\n"
      ]
    },
    {
      "cell_type": "code",
      "metadata": {
        "id": "7ivHW90X6fnm"
      },
      "source": [],
      "execution_count": null,
      "outputs": []
    },
    {
      "cell_type": "code",
      "metadata": {
        "id": "Ok1DuNxQEFZB"
      },
      "source": [],
      "execution_count": null,
      "outputs": []
    },
    {
      "cell_type": "markdown",
      "metadata": {
        "id": "MqtfiMOsB2qi"
      },
      "source": [
        "## 음성 인식"
      ]
    },
    {
      "cell_type": "markdown",
      "metadata": {
        "id": "e0tc7E4x2BHI"
      },
      "source": [
        "### 영어(English)\n",
        "\n",
        "\n"
      ]
    },
    {
      "cell_type": "markdown",
      "metadata": {
        "id": "H8FWircUw7h1"
      },
      "source": [
        "* SpeechRecognition이 기본으로 지원하는 언어\n",
        "* STT를 구현하기 위해선 먼저 recognizer의 record 함수를 이용해 데이터를 입력\n",
        "* recognize를 이용해 각 기업에서 제공하는 api를 통해 음성에 해당하는 구문을 얻을 수 있음\n",
        "\n"
      ]
    },
    {
      "cell_type": "code",
      "metadata": {
        "id": "cqAsQvdx85FY"
      },
      "source": [],
      "execution_count": null,
      "outputs": []
    },
    {
      "cell_type": "markdown",
      "metadata": {
        "id": "guGps2ELyahp"
      },
      "source": [
        "* record 함수를 사용할 때 duration을 지정하면 시작 지점에서 원하는 초만큼의 데이터만 입력 가능\n",
        "* 지정된 음성에 대한 문자열만 얻는 것을 볼 수 있음\n",
        "\n",
        "\n",
        "\n"
      ]
    },
    {
      "cell_type": "code",
      "metadata": {
        "id": "A2elre6h9CJO"
      },
      "source": [],
      "execution_count": null,
      "outputs": []
    },
    {
      "cell_type": "markdown",
      "metadata": {
        "id": "qXUwFZIAyvR1"
      },
      "source": [
        "* offset을 지정하면 offset에 해당하는 초부터 데이터를 입력\n",
        "* duration과 offset을 이용해 원하는 지점, 범위만큼 데이터 입력 가능\n",
        "*   단, 앞뒤 데이터를 고려하는 특성 상 데이터를 일부만 입력하면 상대적으로 성능이 떨어질 수 있음\n",
        "*   결과를 보면 같은 지점인데도 아까와는 다른 결과가 나오는 것을 볼 수 있음\n"
      ]
    },
    {
      "cell_type": "code",
      "metadata": {
        "id": "zrRMh3y8yxGp"
      },
      "source": [],
      "execution_count": null,
      "outputs": []
    },
    {
      "cell_type": "code",
      "metadata": {
        "id": "LGLCsjQb7QpB"
      },
      "source": [],
      "execution_count": null,
      "outputs": []
    },
    {
      "cell_type": "markdown",
      "metadata": {
        "id": "2KJUuOKy2OMR"
      },
      "source": [
        "### 중국어(Chinese - Mandarim)"
      ]
    },
    {
      "cell_type": "markdown",
      "metadata": {
        "id": "pL9lPE2TzTto"
      },
      "source": [
        "\n",
        "\n",
        "*  SpeechRecognition은 영어 외에도 중국어, 한국어 등 다양한 언어를 입력할 수 있음\n",
        "*  단 recognize를 사용할 때 language 인자로 해당 언어에 대한 정보를 명시해주어야 함\n",
        "\n"
      ]
    },
    {
      "cell_type": "code",
      "metadata": {
        "id": "cv9UhAOl6ih3"
      },
      "source": [],
      "execution_count": null,
      "outputs": []
    },
    {
      "cell_type": "code",
      "metadata": {
        "id": "B77pxVxZgUvY"
      },
      "source": [],
      "execution_count": null,
      "outputs": []
    },
    {
      "cell_type": "markdown",
      "metadata": {
        "id": "Jjq1J1l1HPNP"
      },
      "source": [
        "### 프랑스어(French)"
      ]
    },
    {
      "cell_type": "code",
      "metadata": {
        "id": "OER8CTTyw9Uo"
      },
      "source": [],
      "execution_count": null,
      "outputs": []
    },
    {
      "cell_type": "code",
      "metadata": {
        "id": "RYfTRGdpgj-9"
      },
      "source": [],
      "execution_count": null,
      "outputs": []
    },
    {
      "cell_type": "markdown",
      "metadata": {
        "id": "fXkn6aQ7fU5j"
      },
      "source": [
        "### 한국어(Korean)"
      ]
    },
    {
      "cell_type": "markdown",
      "metadata": {
        "id": "KW3YJoaffXpA"
      },
      "source": [
        "* https://www.dropbox.com/s/fp8p8dspu74eq7x/korean.wav"
      ]
    },
    {
      "cell_type": "code",
      "metadata": {
        "id": "VKQ0Mlorjyw3"
      },
      "source": [],
      "execution_count": null,
      "outputs": []
    },
    {
      "cell_type": "code",
      "metadata": {
        "id": "FBDdbnl1fZaA"
      },
      "source": [],
      "execution_count": null,
      "outputs": []
    },
    {
      "cell_type": "code",
      "metadata": {
        "id": "mXDMEnA3g6Gc"
      },
      "source": [],
      "execution_count": null,
      "outputs": []
    }
  ]
}